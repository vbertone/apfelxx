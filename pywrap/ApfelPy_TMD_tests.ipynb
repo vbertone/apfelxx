{
 "cells": [
  {
   "cell_type": "markdown",
   "metadata": {},
   "source": [
    "# Apfelpy\n",
    "Test TMD wrapping functions."
   ]
  },
  {
   "cell_type": "code",
   "execution_count": null,
   "metadata": {},
   "outputs": [],
   "source": [
    "import numpy as np\n",
    "import lhapdf as lh\n",
    "import apfelpy as ap\n",
    "import matplotlib.pyplot as plt"
   ]
  },
  {
   "cell_type": "markdown",
   "metadata": {},
   "source": [
    "## hard factors"
   ]
  },
  {
   "cell_type": "code",
   "execution_count": null,
   "metadata": {},
   "outputs": [],
   "source": [
    "### --- Test the hard factor functions\n",
    "\n",
    "print(\"H1DY =\", ap.hardFactors.H1DY())\n",
    "print(\"H2DY(nf=5) =\", ap.hardFactors.H2DY(5))\n",
    "print(\"H3DY(nf=5) =\", ap.hardFactors.H3DY(5))\n",
    "\n",
    "print(\"H1SIDIS =\", ap.hardFactors.H1SIDIS())\n",
    "print(\"H2SIDIS(nf=5) =\", ap.hardFactors.H2SIDIS(5))\n",
    "print(\"H3SIDIS(nf=5) =\", ap.hardFactors.H3SIDIS(5))\n",
    "\n",
    "print(\"H3Ch =\", ap.hardFactors.H3Ch())\n",
    "print(\"H1ggH =\", ap.hardFactors.H1ggH())\n",
    "print(\"H2ggH(nf=5) =\", ap.hardFactors.H2ggH(5))"
   ]
  },
  {
   "cell_type": "markdown",
   "metadata": {},
   "source": [
    "## TMDs"
   ]
  },
  {
   "cell_type": "markdown",
   "metadata": {},
   "source": [
    "### TMD object initializers"
   ]
  },
  {
   "cell_type": "code",
   "execution_count": null,
   "metadata": {},
   "outputs": [],
   "source": [
    "# Create a pdf grid for TMD functions\n",
    "# Grid pdfs\n",
    "gpdf = ap.Grid([ap.SubGrid(100, 1e-4, 3), ap.SubGrid(60,1e-1,3), ap.SubGrid(50,6e-1,3), ap.SubGrid(50,8e-1,3)])\n",
    "\n",
    "# Define thresholds and masses\n",
    "thresholds = [0, 0, 0, np.sqrt(2), 4.5, 175]\n",
    "\n",
    "print(\"\\n *** 1. Testing TMD Object Initializers ***\\n\")\n",
    "\n",
    "# Test different TMD object initializers\n",
    "print(\"- Testing InitializeTmdObjects\")\n",
    "tmd_objs = ap.tmd.InitializeTmdObjects(gpdf, thresholds)\n",
    "print(f\"  Created objects for {len(tmd_objs)} active flavor numbers\")\n",
    "\n",
    "\n",
    "print(\"- Testing InitializeTmdObjectsDYResScheme\")\n",
    "tmd_objs_dy = ap.tmd.InitializeTmdObjectsDYResScheme(gpdf, thresholds)\n",
    "print(f\"  Created DY scheme objects for {len(tmd_objs_dy)} active flavor numbers\")\n",
    "\n",
    "\n",
    "print(\"- Testing InitializeTmdObjectsBM\")\n",
    "tmd_objs_bm = ap.tmd.InitializeTmdObjectsBM(gpdf, thresholds)\n",
    "print(f\"  Created BM objects for {len(tmd_objs_bm)} active flavor numbers\")\n",
    "\n",
    "\n",
    "print(\"- Testing InitializeTmdObjectsSivers\")\n",
    "tmd_objs_sivers = ap.tmd.InitializeTmdObjectsSivers(gpdf, thresholds)\n",
    "print(f\"  Created Sivers objects for {len(tmd_objs_sivers)} active flavor numbers\")\n",
    "\n",
    "\n",
    "print(\"- Testing InitializeTmdObjectsg1\")\n",
    "tmd_objs_g1 = ap.tmd.InitializeTmdObjectsg1(gpdf, thresholds)\n",
    "print(f\"  Created g1 objects for {len(tmd_objs_g1)} active flavor numbers\")\n",
    "\n"
   ]
  },
  {
   "cell_type": "code",
   "execution_count": null,
   "metadata": {},
   "outputs": [],
   "source": [
    "### --- Look inside one TMD object --- ###\n",
    "\n",
    "# Get the one with 5 active flavors\n",
    "test_obj = tmd_objs[5]\n",
    "print(\"\\n *** Examining TmdObjects structure ***\\n\")\n",
    "\n",
    "print(f\"- Threshold: {test_obj.Threshold}\")\n",
    "print(f\"- Beta keys: {list(test_obj.Beta.keys())}\")\n",
    "print(f\"- GammaFq keys: {list(test_obj.GammaFq.keys())}\")\n",
    "print(f\"- GammaFg keys: {list(test_obj.GammaFg.keys())}\")\n",
    "print(f\"- GammaK keys: {list(test_obj.GammaK.keys())}\")\n",
    "print(f\"- KCS keys: {list(test_obj.KCS.keys())}\")\n",
    "print(f\"- MatchingFunctionsPDFs keys: {list(test_obj.MatchingFunctionsPDFs.keys())}\")\n",
    "print(f\"- MatchingFunctionsFFs keys: {list(test_obj.MatchingFunctionsFFs.keys())}\")\n",
    "print(f\"- HardFactors keys: {list(test_obj.HardFactors.keys())}\")\n",
    "\n"
   ]
  },
  {
   "cell_type": "markdown",
   "metadata": {},
   "source": [
    "### TMD builders"
   ]
  },
  {
   "cell_type": "markdown",
   "metadata": {},
   "source": [
    "#### setup"
   ]
  },
  {
   "cell_type": "code",
   "execution_count": null,
   "metadata": {},
   "outputs": [],
   "source": [
    "### --- Setup for testing the TMD functions --- ###\n",
    "\n",
    "# ----------------------------------------------\n",
    "# Initalise LHAPDF set\n",
    "# ----------------------------------------------\n",
    "pdfs = lh.mkPDF(\"MMHT2014nnlo68cl\", 0)\n",
    "\n",
    "# ----------------------------------------------\n",
    "# Define thresholds and masses\n",
    "# ----------------------------------------------\n",
    "thresholds = [0, 0, 0, np.sqrt(2), 4.5, 175]\n",
    "masses     = [0, 0, 0, np.sqrt(2), 4.5]\n",
    "\n",
    "# ----------------------------------------------\n",
    "# Alpha_s function\n",
    "# ----------------------------------------------\n",
    "# Define alpha_s function using APFEL\n",
    "alpha_s_apfelpy = ap.AlphaQCD(0.118, 91.2, masses, thresholds, 100)\n",
    "\n",
    "# Define the Alpha_s function using the LHAPDF set\n",
    "alpha_s = lambda mu: pdfs.alphasQ(mu)\n",
    "\n",
    "# Create a TabulateObject (callable) for alpha_s\n",
    "tab_alphas = ap.TabulateObject(\n",
    "    alpha_s,                     # Function to tabulate NOTE: can also be the APFEL alpha_s function\n",
    "    100,                         # Number of points in the mu grid\n",
    "    np.sqrt(pdfs.q2Min) * 0.9,   # Minimum mu value (QMin)\n",
    "    np.sqrt(pdfs.q2Max),         # Maximum mu value (QMax)\n",
    "    3,                           # Interpolation degree\n",
    "    thresholds                   # Quark mass thresholds\n",
    ")\n",
    "\n",
    "# ----------------------------------------------\n",
    "# Collinear PDF function\n",
    "# ----------------------------------------------\n",
    "def coll_pdf_func(mu):\n",
    "    \"\"\"\n",
    "    The calls to TMD builders (later on) will require a callable for the evolved collinear PDFs.\n",
    "    This function simulates returning a collinear PDF set (SetD) at scale mu = Q.\n",
    "    Evolve your PDFs from an initial condition.\n",
    "    \"\"\"    \n",
    "    \n",
    "    # Initial scale\n",
    "    mu0 = np.sqrt(pdfs.q2Min)\n",
    "\n",
    "    # Initialize QCD evolution objects\n",
    "    DglapObj = ap.initializers.InitializeDglapObjectsQCD(gpdf, masses, thresholds)\n",
    "\n",
    "    # Construct the DGLAP objects\n",
    "    # Evolve the PDFs: evolve_PDFs is a SetD object returned by BuildDglap\n",
    "    evolved_PDFs = ap.builders.BuildDglap(\n",
    "        DglapObj,\n",
    "        lambda x, mu: ap.utilities.PhysToQCDEv(pdfs.xfxQ(x, mu)),\n",
    "        mu0, \n",
    "        pdfs.orderQCD,\n",
    "        tab_alphas.Evaluate  # using the Evaluate method of tab_alphas\n",
    "    )\n",
    "\n",
    "    # Tabulate the evolved collinear PDFs (returns a TabulateObjectSetD)\n",
    "    tab_PDFs = ap.TabulateObjectSetD(\n",
    "        evolved_PDFs, \n",
    "        100, \n",
    "        np.sqrt(pdfs.q2Min) * 0.9, \n",
    "        np.sqrt(pdfs.q2Max), \n",
    "        3\n",
    "    )\n",
    "\n",
    "    # Tabulate collinear PDFs\n",
    "    tab_PDFs = ap.TabulateObjectSetD(evolved_PDFs, 100, np.sqrt(pdfs.q2Min) * 0.9, np.sqrt(pdfs.q2Max), 3)\n",
    "    \n",
    "    # Directly return the evaluated SetD at scale mu:\n",
    "    return tab_PDFs.Evaluate(mu)"
   ]
  },
  {
   "cell_type": "markdown",
   "metadata": {},
   "source": [
    "NOTE:\n",
    "\n",
    "In the previous cell, a `TabulateObject` is built from the  `alpha_s` callable; this object is intended to tabulate $\\alpha_s$.\n",
    "\n",
    "__Key point__: Instead of passing the entire `tab_alphas` object to `BuildTmdPDFs`, we use its `Evaluate` method (which matches the required signature: it takes a float and returns a float)."
   ]
  },
  {
   "cell_type": "markdown",
   "metadata": {},
   "source": [
    "#### building functions"
   ]
  },
  {
   "cell_type": "code",
   "execution_count": null,
   "metadata": {},
   "outputs": [],
   "source": [
    "print(\"\\n *** Testing TMD Building Functions ***\\n\")\n",
    "\n",
    "# ----------------------------------------------\n",
    "# Build the TMD PDF function using BuildTmdPDFs\n",
    "# ----------------------------------------------\n",
    "# IMPORTANT: The third argument should be a callable returning a float.\n",
    "# Since tab_alphas is a TabulateObject, we pass its Evaluate method:\n",
    "tmd_pdf_func = ap.tmd.BuildTmdPDFs(tmd_objs, coll_pdf_func, tab_alphas.Evaluate, 0)\n",
    "\n",
    "# -----------------------------\n",
    "# Test the TMD PDF function\n",
    "# -----------------------------\n",
    "bT = 0.5         \n",
    "mu = 91.1876     \n",
    "zeta = mu * mu  \n",
    "\n",
    "# Call the TMD PDF function; expect a SetD (collinear PDF set) as return\n",
    "tmd_pdf_set = tmd_pdf_func(bT, mu, zeta)\n",
    "\n",
    "# Print information about the returned Distribution set (SetD)\n",
    "print(\"Returned object type:\", type(tmd_pdf_set))\n",
    "try:\n",
    "    # Try using methods of SetD (for example, using 'at')\n",
    "    print(\"Number of distributions in the set:\", len(tmd_pdf_set))\n",
    "    # for i in range(len(tmd_pdf_set)):\n",
    "    #     dist = tmd_pdf_set.at(i)\n",
    "    #     print(f\"Distribution {i}: {dist}\")\n",
    "except Exception as e:\n",
    "    print(\"Error accessing the DistributionSet:\", e)\n",
    "\n"
   ]
  },
  {
   "cell_type": "markdown",
   "metadata": {},
   "source": [
    "#### matching functions"
   ]
  },
  {
   "cell_type": "code",
   "execution_count": null,
   "metadata": {},
   "outputs": [],
   "source": [
    "## -- Test MatchingFunctionsPDFs\n",
    "matching_pdfs = ap.tmd.MatchingFunctionsPDFs(tmd_objs, lambda mu: alpha_s.Evolve(mu), 1)\n",
    "print(\"- MatchingFunctionsPDFs function created\")\n",
    "\n",
    "## -- Test MatchingFunctionsFFs\n",
    "matching_ffs = ap.tmd.MatchingFunctionsFFs(tmd_objs, lambda mu: alpha_s.Evolve(mu), 1)\n",
    "print(\"- MatchingFunctionsFFs function created\")\n",
    "\n"
   ]
  },
  {
   "cell_type": "markdown",
   "metadata": {},
   "source": [
    "The function `MatchTmdPDFs` has a similar signature to `BuildTmdPDFs` but performs matching in b-space.\n",
    "Its parameters are:\n",
    " - TmdObj: dictionary of TmdObjects,\n",
    " - CollPDFs: callable for collinear PDFs (SetD),\n",
    " - Alphas: callable for alpha_s (here we use tab_alphas.Evaluate),\n",
    " - PerturbativeOrder: an integer,\n",
    " - Ci: (default 1)."
   ]
  },
  {
   "cell_type": "code",
   "execution_count": null,
   "metadata": {},
   "outputs": [],
   "source": [
    "# ----------------------------------------------\n",
    "# Test MatchTmdPDFs: returns a callable for matched TMD PDFs\n",
    "# ----------------------------------------------\n",
    "# match_tmd_pdfs = ap.tmd.MatchTmdFFs(tmd_objs, coll_pdf_func, tab_alphas.Evaluate, 0)\n",
    "match_tmd_pdfs = ap.tmd.MatchTmdPDFs(tmd_objs, coll_pdf_func, tab_alphas.Evaluate, 0)\n",
    "print(\"- MatchTmdPDFs function created\")\n",
    "\n",
    "# Define example kinematic parameters:\n",
    "bT = 0.5         \n",
    "mu = 91.1876     \n",
    "zeta = mu * mu   \n",
    "\n",
    "# Call the returned function to obtain matched TMD PDFs (a SetD)\n",
    "matched_tmd_pdf_set = match_tmd_pdfs(bT)\n",
    "\n",
    "print(\"\\n*** Testing MatchTmdPDFs ***\")\n",
    "print(\"Returned object type (MatchTmdPDFs):\", type(matched_tmd_pdf_set))\n",
    "try:\n",
    "    # Use available methods from SetD, e.g., using 'at'\n",
    "    print(\"Number of distributions in the matched set:\", len(matched_tmd_pdf_set))\n",
    "    for i in range(len(matched_tmd_pdf_set)):\n",
    "        dist = matched_tmd_pdf_set.at(i)\n",
    "        print(f\"Matched Distribution {i}: {dist}\")\n",
    "except Exception as e:\n",
    "    print(\"Error accessing the matched DistributionSet:\", e)\n",
    "\n",
    "# ----------------------------------------------\n",
    "# Test MatchingFunctionsPDFs: returns matching functions directly (as a SetD)\n",
    "# ----------------------------------------------\n",
    "# This function does not require a collinear PDF callable.\n",
    "# matching_ff_set = ap.tmd.MatchingFunctionsFFs(tmd_objs, tab_alphas.Evaluate, 0)\n",
    "matching_pdf_set = ap.tmd.MatchingFunctionsPDFs(tmd_objs, tab_alphas.Evaluate, 0)\n",
    "print(\"- MatchingFunctionsPDFs function created\")\n",
    "\n",
    "print(\"\\n*** Testing MatchingFunctionsPDFs ***\")\n",
    "print(\"Returned object type (MatchingFunctionsPDFs):\", type(matching_pdf_set))\n",
    "try:\n",
    "    print(\"Number of matching functions in the set:\", len(matching_pdf_set))\n",
    "    for i in range(len(matching_pdf_set)):\n",
    "        func = matching_pdf_set.at(i)\n",
    "        print(f\"Matching function {i}: {func}\")\n",
    "except Exception as e:\n",
    "    print(\"Error accessing the matching functions set:\", e)"
   ]
  },
  {
   "cell_type": "markdown",
   "metadata": {},
   "source": [
    "## TMD evolution factor functions"
   ]
  },
  {
   "cell_type": "markdown",
   "metadata": {},
   "source": [
    "### test EvolutionFactors"
   ]
  },
  {
   "cell_type": "code",
   "execution_count": null,
   "metadata": {},
   "outputs": [],
   "source": [
    "# --- Setup for testing EvolutionFactors ---\n",
    "pdfs = lh.mkPDF(\"MMHT2014nnlo68cl\", 0)\n",
    "thresholds = [0, 0, 0, np.sqrt(2), 4.5, 175]\n",
    "masses     = [0, 0, 0, np.sqrt(2), 4.5]\n",
    "\n",
    "# Define alpha_s function using LHAPDF\n",
    "alpha_s = lambda mu: pdfs.alphasQ(mu)\n",
    "\n",
    "# Build the evolution factors function\n",
    "evol_func = ap.tmd.EvolutionFactors(tmd_objs, alpha_s, 0)  # using default Ci and IntEps\n",
    "\n",
    "# Define kinematic parameters:\n",
    "bT = 0.5\n",
    "mu = 91.1876\n",
    "zeta = mu * mu\n",
    "\n",
    "# Call the evolution factors function\n",
    "evolution_factors = evol_func(bT, mu, zeta)\n",
    "print(\"\\033[92mEvolution factors (list of doubles):\", evolution_factors, \"\\033[0m\")\n"
   ]
  },
  {
   "cell_type": "markdown",
   "metadata": {},
   "source": [
    "### test EvolutionFactorsK"
   ]
  },
  {
   "cell_type": "code",
   "execution_count": null,
   "metadata": {},
   "outputs": [],
   "source": [
    "# --- Setup for testing EvolutionFactorsK ---\n",
    "# Create TMD objects\n",
    "# tmd_objs = ap.tmd.InitializeTmdObjects(gpdf, thresholds)\n",
    "\n",
    "# Define a simple αₛ function (for testing, just return a constant)\n",
    "# alpha_s = lambda mu: 0.118\n",
    "\n",
    "# Set kinematic parameters\n",
    "bT = 0.5         # transverse distance parameter\n",
    "mu = 91.1876     # renormalisation scale (e.g., Z mass)\n",
    "zeta = mu * mu   # rapidity scale (for example, μ²)\n",
    "\n",
    "# Call EvolutionFactorsK; it returns a callable f(bT, mu, zeta) -> list of doubles.\n",
    "evolK_func = ap.tmd.EvolutionFactorsK(tmd_objs, alpha_s, 0)\n",
    "evolution_factors_k = evolK_func(bT, mu, zeta)\n",
    "\n",
    "print(\"\\033[92mEvolutionFactorsK returned:\", evolution_factors_k, \"\\033[0m\")\n"
   ]
  },
  {
   "cell_type": "markdown",
   "metadata": {},
   "source": [
    "### test QuarkEvolutionFactor"
   ]
  },
  {
   "cell_type": "code",
   "execution_count": null,
   "metadata": {},
   "outputs": [],
   "source": [
    "# Create TMD objects\n",
    "# tmd_objs = ap.tmd.InitializeTmdObjects(gpdf, thresholds)\n",
    "\n",
    "# Simple αₛ function\n",
    "# alpha_s = lambda mu: 0.118\n",
    "\n",
    "# Kinematic parameters\n",
    "bT = 0.5\n",
    "mu = 91.1876\n",
    "zeta = mu * mu\n",
    "\n",
    "# Call QuarkEvolutionFactor; it returns a callable f(bT, mu, zeta) -> double.\n",
    "q_evol_func = ap.tmd.QuarkEvolutionFactor(tmd_objs, alpha_s, 0)\n",
    "quark_evol_factor = q_evol_func(bT, mu, zeta)\n",
    "\n",
    "print(\"\\033[92mQuarkEvolutionFactor returned:\", quark_evol_factor, \"\\033[0m\")\n"
   ]
  },
  {
   "cell_type": "markdown",
   "metadata": {},
   "source": [
    "### test QuarkEvolutionFactorxi"
   ]
  },
  {
   "cell_type": "code",
   "execution_count": null,
   "metadata": {},
   "outputs": [],
   "source": [
    "# Create TMD objects\n",
    "# tmd_objs = ap.tmd.InitializeTmdObjects(gpdf, thresholds)\n",
    "\n",
    "# Simple αₛ function\n",
    "# alpha_s = lambda mu: 0.118\n",
    "\n",
    "# Kinematic parameters\n",
    "bT = 0.5\n",
    "mu = 91.1876\n",
    "zeta = mu * mu\n",
    "\n",
    "# For QuarkEvolutionFactorxi, there is an extra parameter \"xi\". We use the default value 1.\n",
    "xi = 1.0\n",
    "\n",
    "# Call QuarkEvolutionFactorxi; it returns a callable f(bT, mu, zeta) -> double.\n",
    "q_evol_xi_func = ap.tmd.QuarkEvolutionFactorxi(tmd_objs, alpha_s, 0, xi)\n",
    "quark_evol_factor_xi = q_evol_xi_func(bT, mu, zeta)\n",
    "\n",
    "print(\"\\033[92mQuarkEvolutionFactorxi returned:\", quark_evol_factor_xi, \"\\033[0m\")\n"
   ]
  },
  {
   "cell_type": "markdown",
   "metadata": {},
   "source": [
    "### test GluonEvolutionFactor"
   ]
  },
  {
   "cell_type": "code",
   "execution_count": null,
   "metadata": {},
   "outputs": [],
   "source": [
    "# # Create TMD objects\n",
    "# tmd_objs = ap.tmd.InitializeTmdObjects(gpdf, thresholds)\n",
    "\n",
    "# Simple αₛ function\n",
    "# alpha_s = lambda mu: 0.118\n",
    "\n",
    "# Kinematic parameters\n",
    "bT = 0.5\n",
    "mu = 91.1876\n",
    "zeta = mu * mu\n",
    "\n",
    "# Call GluonEvolutionFactor; it returns a callable f(bT, mu, zeta) -> double.\n",
    "g_evol_func = ap.tmd.GluonEvolutionFactor(tmd_objs, alpha_s, 0)\n",
    "gluon_evol_factor = g_evol_func(bT, mu, zeta)\n",
    "\n",
    "print(\"\\033[92mGluonEvolutionFactor returned:\", gluon_evol_factor, \"\\033[0m\")\n"
   ]
  },
  {
   "cell_type": "markdown",
   "metadata": {},
   "source": [
    "## TMD analytic evolution and kernel functions"
   ]
  },
  {
   "cell_type": "markdown",
   "metadata": {},
   "source": [
    "### test QuarkAnalyticEvolutionFactor"
   ]
  },
  {
   "cell_type": "code",
   "execution_count": null,
   "metadata": {},
   "outputs": [],
   "source": [
    "# Create TMD objects\n",
    "tmd_objs = ap.tmd.InitializeTmdObjects(gpdf, thresholds)\n",
    "\n",
    "# Define necessary parameters:\n",
    "mu0 = 91.1876           # Example initial scale (e.g., Z boson mass)\n",
    "Alphas0 = 0.118         # Example αₛ value at mu0\n",
    "kappa = 1.0             # Example value for kappa (process dependent)\n",
    "kappa0 = 1.0            # Example value for kappa0 (could be 1.0 as default)\n",
    "pert_order = 0          # Perturbative order (e.g., 0 for LO)\n",
    "\n",
    "# Call the wrapped function for quark analytic evolution factor.\n",
    "# This function is assumed to return a double.\n",
    "quark_analytic = ap.tmd.QuarkAnalyticEvolutionFactor(tmd_objs[4], mu0, Alphas0, kappa, kappa0, pert_order)\n",
    "\n",
    "# Now call the returned callable with a specific b value.\n",
    "b_value = 0.5\n",
    "result = quark_analytic(b_value)\n",
    "\n",
    "# Print the result in green.\n",
    "print(\"\\033[92mQuarkAnalyticEvolutionFactor returned:\", result, \"\\033[0m\")\n"
   ]
  },
  {
   "cell_type": "markdown",
   "metadata": {},
   "source": [
    "### test GluonAnalyticEvolutionFactor"
   ]
  },
  {
   "cell_type": "code",
   "execution_count": null,
   "metadata": {},
   "outputs": [],
   "source": [
    "# Create TmdObjects\n",
    "tmd_objs = ap.tmd.InitializeTmdObjects(gpdf, thresholds)\n",
    "\n",
    "# Define parameters:\n",
    "mu0     = 91.1876   # Initial scale (e.g., Z boson mass)\n",
    "Alphas0 = 0.118     # αₛ at mu0\n",
    "kappa   = 1.0       # Process-dependent parameter (example)\n",
    "kappa0  = 1.0       # Baseline value for kappa0\n",
    "pert_order = 0      # Perturbative order\n",
    "\n",
    "# Call GluonAnalyticEvolutionFactor with a single TmdObjects instance.\n",
    "gluon_analytic = ap.tmd.GluonAnalyticEvolutionFactor(tmd_objs[4], mu0, Alphas0, kappa, kappa0, pert_order)\n",
    "\n",
    "# The function returns a callable that accepts one float (for b)\n",
    "b_value = 0.5\n",
    "result = gluon_analytic(b_value)\n",
    "\n",
    "# Print result in green.\n",
    "print(\"\\033[92mGluonAnalyticEvolutionFactor returned:\", result, \"\\033[0m\")\n"
   ]
  },
  {
   "cell_type": "markdown",
   "metadata": {},
   "source": [
    "### test CollinsSoperKernel"
   ]
  },
  {
   "cell_type": "code",
   "execution_count": null,
   "metadata": {},
   "outputs": [],
   "source": [
    "# For CollinsSoperKernel we assume the binding expects the full set,\n",
    "# so we pass a dictionary of TmdObjects.\n",
    "tmd_objs = ap.tmd.InitializeTmdObjects(gpdf, thresholds)\n",
    "\n",
    "# Define a simple αₛ function.\n",
    "alpha_s = lambda mu: 0.118\n",
    "\n",
    "# Define additional parameters.\n",
    "pert_order = 0\n",
    "Ci = 1.0\n",
    "IntEps = 1e-7\n",
    "\n",
    "# Call CollinsSoperKernel.\n",
    "# It returns a callable that accepts two arguments (e.g., bT and Q).\n",
    "kernel_func = ap.tmd.CollinsSoperKernel(tmd_objs, alpha_s, pert_order, Ci, IntEps)\n",
    "\n",
    "# Define kinematic parameters:\n",
    "bT = 0.5    # transverse distance parameter\n",
    "Q  = 91.1876  # scale (e.g., Z mass)\n",
    "\n",
    "# Call the kernel function.\n",
    "kernel_value = kernel_func(bT, Q)\n",
    "\n",
    "# Print result in green.\n",
    "print(\"\\033[92mCollinsSoperKernel returned:\", kernel_value, \"\\033[0m\")\n"
   ]
  },
  {
   "cell_type": "markdown",
   "metadata": {},
   "source": [
    "### test HardFactor"
   ]
  },
  {
   "cell_type": "code",
   "execution_count": null,
   "metadata": {},
   "outputs": [],
   "source": [
    "# For HardFactor we pass a dictionary of TmdObjects.\n",
    "tmd_objs = ap.tmd.InitializeTmdObjects(gpdf, thresholds)\n",
    "\n",
    "# Define a simple αₛ function.\n",
    "alpha_s = lambda mu: 0.118\n",
    "\n",
    "# Define the process string (for example, \"DY\" for Drell-Yan).\n",
    "process = \"DY\"\n",
    "\n",
    "# Define perturbative order and color factor Cf (if needed).\n",
    "pert_order = 0\n",
    "Cf = 1.0\n",
    "\n",
    "# Call HardFactor.\n",
    "# It returns a hard factor as a callable.\n",
    "hard_factor = ap.tmd.HardFactor(process, tmd_objs, alpha_s, pert_order, Cf)\n",
    "\n",
    "# The function returns a callable that accepts one float (for Q)\n",
    "Q_value = 1\n",
    "\n",
    "# Print result in green.\n",
    "print(\"\\033[92mHardFactor returned:\", hard_factor(Q_value), \"\\033[0m\")\n"
   ]
  },
  {
   "cell_type": "code",
   "execution_count": null,
   "metadata": {},
   "outputs": [],
   "source": []
  }
 ],
 "metadata": {
  "kernelspec": {
   "display_name": "Python 3",
   "language": "python",
   "name": "python3"
  },
  "language_info": {
   "codemirror_mode": {
    "name": "ipython",
    "version": 3
   },
   "file_extension": ".py",
   "mimetype": "text/x-python",
   "name": "python",
   "nbconvert_exporter": "python",
   "pygments_lexer": "ipython3",
   "version": "3.10.15"
  }
 },
 "nbformat": 4,
 "nbformat_minor": 2
}
